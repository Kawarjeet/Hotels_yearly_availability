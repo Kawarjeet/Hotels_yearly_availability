{
 "cells": [
  {
   "cell_type": "code",
   "execution_count": 71,
   "metadata": {
    "id": "FUKmd7AmWnta"
   },
   "outputs": [],
   "source": [
    "# installing libraries for use within the project\n",
    "import numpy as np\n",
    "import pandas as pd\n",
    "import matplotlib.pyplot as plt\n",
    "%matplotlib inline\n",
    "# we will use pandas profiling for a full scale analysis of our dataset\n",
    "import seaborn as sns"
   ]
  },
  {
   "cell_type": "code",
   "execution_count": 72,
   "metadata": {
    "id": "XVBIey8vWsdu"
   },
   "outputs": [],
   "source": [
    "# read_csv from pandas is used to read the csv dataset\n",
    "data = pd.read_csv('train.csv')"
   ]
  },
  {
   "cell_type": "code",
   "execution_count": 73,
   "metadata": {
    "id": "2yje7iEUXFUE"
   },
   "outputs": [],
   "source": [
    "# we use DataFrame method in pandas to convert our dataset into pandas data frame for a better viewing and understanding of our data\n",
    "traindata = pd.DataFrame(data)"
   ]
  },
  {
   "cell_type": "code",
   "execution_count": 74,
   "metadata": {
    "colab": {
     "base_uri": "https://localhost:8080/"
    },
    "id": "W1rDxosyXITI",
    "outputId": "56964d08-acea-41a4-fe2e-34f3241c9fe2"
   },
   "outputs": [
    {
     "name": "stdout",
     "output_type": "stream",
     "text": [
      "<class 'pandas.core.frame.DataFrame'>\n",
      "RangeIndex: 2870 entries, 0 to 2869\n",
      "Data columns (total 12 columns):\n",
      " #   Column               Non-Null Count  Dtype  \n",
      "---  ------               --------------  -----  \n",
      " 0   id                   2870 non-null   int64  \n",
      " 1   region               2870 non-null   object \n",
      " 2   latitude             2870 non-null   float64\n",
      " 3   longitude            2870 non-null   float64\n",
      " 4   accommodation_type   2870 non-null   object \n",
      " 5   cost                 2870 non-null   int64  \n",
      " 6   minimum_nights       2870 non-null   int64  \n",
      " 7   number_of_reviews    2870 non-null   int64  \n",
      " 8   reviews_per_month    2194 non-null   float64\n",
      " 9   owner_id             2870 non-null   int64  \n",
      " 10  owned_hotels         2870 non-null   int64  \n",
      " 11  yearly_availability  2870 non-null   int64  \n",
      "dtypes: float64(3), int64(7), object(2)\n",
      "memory usage: 269.2+ KB\n"
     ]
    }
   ],
   "source": [
    "traindata.info()"
   ]
  },
  {
   "cell_type": "code",
   "execution_count": 75,
   "metadata": {
    "id": "WOxNSeWvXMFo"
   },
   "outputs": [],
   "source": [
    "# as we can see above in the 'reviews_per_month' column we have some values which are not 'non-null' and we have\n",
    "# two categorical columns. We need to take care of these missing values and also convert categorical data to numerical data"
   ]
  },
  {
   "cell_type": "code",
   "execution_count": 76,
   "metadata": {
    "colab": {
     "base_uri": "https://localhost:8080/",
     "height": 270
    },
    "id": "vvAF37HjXQXl",
    "outputId": "531a9128-723a-4d1f-9f98-8130dafd2c5c"
   },
   "outputs": [
    {
     "data": {
      "text/html": [
       "<div>\n",
       "<style scoped>\n",
       "    .dataframe tbody tr th:only-of-type {\n",
       "        vertical-align: middle;\n",
       "    }\n",
       "\n",
       "    .dataframe tbody tr th {\n",
       "        vertical-align: top;\n",
       "    }\n",
       "\n",
       "    .dataframe thead th {\n",
       "        text-align: right;\n",
       "    }\n",
       "</style>\n",
       "<table border=\"1\" class=\"dataframe\">\n",
       "  <thead>\n",
       "    <tr style=\"text-align: right;\">\n",
       "      <th></th>\n",
       "      <th>id</th>\n",
       "      <th>region</th>\n",
       "      <th>latitude</th>\n",
       "      <th>longitude</th>\n",
       "      <th>accommodation_type</th>\n",
       "      <th>cost</th>\n",
       "      <th>minimum_nights</th>\n",
       "      <th>number_of_reviews</th>\n",
       "      <th>reviews_per_month</th>\n",
       "      <th>owner_id</th>\n",
       "      <th>owned_hotels</th>\n",
       "      <th>yearly_availability</th>\n",
       "    </tr>\n",
       "  </thead>\n",
       "  <tbody>\n",
       "    <tr>\n",
       "      <th>0</th>\n",
       "      <td>13232</td>\n",
       "      <td>Manhattan</td>\n",
       "      <td>40.71854</td>\n",
       "      <td>-74.00439</td>\n",
       "      <td>Entire home/apt</td>\n",
       "      <td>170</td>\n",
       "      <td>5</td>\n",
       "      <td>7</td>\n",
       "      <td>0.56</td>\n",
       "      <td>929983</td>\n",
       "      <td>1</td>\n",
       "      <td>0</td>\n",
       "    </tr>\n",
       "    <tr>\n",
       "      <th>1</th>\n",
       "      <td>246</td>\n",
       "      <td>Brooklyn</td>\n",
       "      <td>40.64446</td>\n",
       "      <td>-73.95030</td>\n",
       "      <td>Entire home/apt</td>\n",
       "      <td>65</td>\n",
       "      <td>3</td>\n",
       "      <td>238</td>\n",
       "      <td>2.30</td>\n",
       "      <td>281764</td>\n",
       "      <td>1</td>\n",
       "      <td>0</td>\n",
       "    </tr>\n",
       "    <tr>\n",
       "      <th>2</th>\n",
       "      <td>19091</td>\n",
       "      <td>Queens</td>\n",
       "      <td>40.78573</td>\n",
       "      <td>-73.81062</td>\n",
       "      <td>Private room</td>\n",
       "      <td>85</td>\n",
       "      <td>1</td>\n",
       "      <td>0</td>\n",
       "      <td>NaN</td>\n",
       "      <td>19923341</td>\n",
       "      <td>1</td>\n",
       "      <td>1</td>\n",
       "    </tr>\n",
       "    <tr>\n",
       "      <th>3</th>\n",
       "      <td>34305</td>\n",
       "      <td>Manhattan</td>\n",
       "      <td>40.73863</td>\n",
       "      <td>-73.98002</td>\n",
       "      <td>Private room</td>\n",
       "      <td>210</td>\n",
       "      <td>30</td>\n",
       "      <td>0</td>\n",
       "      <td>NaN</td>\n",
       "      <td>200380610</td>\n",
       "      <td>65</td>\n",
       "      <td>1</td>\n",
       "    </tr>\n",
       "    <tr>\n",
       "      <th>4</th>\n",
       "      <td>444</td>\n",
       "      <td>Manhattan</td>\n",
       "      <td>40.82426</td>\n",
       "      <td>-73.94630</td>\n",
       "      <td>Shared room</td>\n",
       "      <td>75</td>\n",
       "      <td>3</td>\n",
       "      <td>38</td>\n",
       "      <td>0.42</td>\n",
       "      <td>745069</td>\n",
       "      <td>3</td>\n",
       "      <td>1</td>\n",
       "    </tr>\n",
       "  </tbody>\n",
       "</table>\n",
       "</div>"
      ],
      "text/plain": [
       "      id     region  latitude  longitude accommodation_type  cost  \\\n",
       "0  13232  Manhattan  40.71854  -74.00439    Entire home/apt   170   \n",
       "1    246   Brooklyn  40.64446  -73.95030    Entire home/apt    65   \n",
       "2  19091     Queens  40.78573  -73.81062       Private room    85   \n",
       "3  34305  Manhattan  40.73863  -73.98002       Private room   210   \n",
       "4    444  Manhattan  40.82426  -73.94630        Shared room    75   \n",
       "\n",
       "   minimum_nights  number_of_reviews  reviews_per_month   owner_id  \\\n",
       "0               5                  7               0.56     929983   \n",
       "1               3                238               2.30     281764   \n",
       "2               1                  0                NaN   19923341   \n",
       "3              30                  0                NaN  200380610   \n",
       "4               3                 38               0.42     745069   \n",
       "\n",
       "   owned_hotels  yearly_availability  \n",
       "0             1                    0  \n",
       "1             1                    0  \n",
       "2             1                    1  \n",
       "3            65                    1  \n",
       "4             3                    1  "
      ]
     },
     "execution_count": 76,
     "metadata": {},
     "output_type": "execute_result"
    }
   ],
   "source": [
    "traindata.head()"
   ]
  },
  {
   "cell_type": "code",
   "execution_count": 77,
   "metadata": {
    "colab": {
     "base_uri": "https://localhost:8080/",
     "height": 344
    },
    "id": "aFRpQIS5XSbd",
    "outputId": "44966579-61ee-4f90-9110-bca81cfaadab"
   },
   "outputs": [
    {
     "data": {
      "text/html": [
       "<div>\n",
       "<style scoped>\n",
       "    .dataframe tbody tr th:only-of-type {\n",
       "        vertical-align: middle;\n",
       "    }\n",
       "\n",
       "    .dataframe tbody tr th {\n",
       "        vertical-align: top;\n",
       "    }\n",
       "\n",
       "    .dataframe thead th {\n",
       "        text-align: right;\n",
       "    }\n",
       "</style>\n",
       "<table border=\"1\" class=\"dataframe\">\n",
       "  <thead>\n",
       "    <tr style=\"text-align: right;\">\n",
       "      <th></th>\n",
       "      <th>id</th>\n",
       "      <th>latitude</th>\n",
       "      <th>longitude</th>\n",
       "      <th>cost</th>\n",
       "      <th>minimum_nights</th>\n",
       "      <th>number_of_reviews</th>\n",
       "      <th>reviews_per_month</th>\n",
       "      <th>owner_id</th>\n",
       "      <th>owned_hotels</th>\n",
       "      <th>yearly_availability</th>\n",
       "    </tr>\n",
       "  </thead>\n",
       "  <tbody>\n",
       "    <tr>\n",
       "      <th>count</th>\n",
       "      <td>2870.000000</td>\n",
       "      <td>2870.000000</td>\n",
       "      <td>2870.000000</td>\n",
       "      <td>2870.000000</td>\n",
       "      <td>2870.000000</td>\n",
       "      <td>2870.000000</td>\n",
       "      <td>2194.000000</td>\n",
       "      <td>2.870000e+03</td>\n",
       "      <td>2870.000000</td>\n",
       "      <td>2870.000000</td>\n",
       "    </tr>\n",
       "    <tr>\n",
       "      <th>mean</th>\n",
       "      <td>26760.657143</td>\n",
       "      <td>40.731224</td>\n",
       "      <td>-73.950158</td>\n",
       "      <td>195.943206</td>\n",
       "      <td>11.530314</td>\n",
       "      <td>16.315331</td>\n",
       "      <td>1.157502</td>\n",
       "      <td>7.202195e+07</td>\n",
       "      <td>8.411498</td>\n",
       "      <td>0.498606</td>\n",
       "    </tr>\n",
       "    <tr>\n",
       "      <th>std</th>\n",
       "      <td>14140.930062</td>\n",
       "      <td>0.054942</td>\n",
       "      <td>0.049745</td>\n",
       "      <td>406.184714</td>\n",
       "      <td>37.972339</td>\n",
       "      <td>32.481722</td>\n",
       "      <td>1.355028</td>\n",
       "      <td>8.076516e+07</td>\n",
       "      <td>27.105522</td>\n",
       "      <td>0.500085</td>\n",
       "    </tr>\n",
       "    <tr>\n",
       "      <th>min</th>\n",
       "      <td>0.000000</td>\n",
       "      <td>40.507080</td>\n",
       "      <td>-74.242850</td>\n",
       "      <td>10.000000</td>\n",
       "      <td>1.000000</td>\n",
       "      <td>0.000000</td>\n",
       "      <td>0.010000</td>\n",
       "      <td>2.787000e+03</td>\n",
       "      <td>1.000000</td>\n",
       "      <td>0.000000</td>\n",
       "    </tr>\n",
       "    <tr>\n",
       "      <th>25%</th>\n",
       "      <td>15931.750000</td>\n",
       "      <td>40.692463</td>\n",
       "      <td>-73.984003</td>\n",
       "      <td>75.000000</td>\n",
       "      <td>1.000000</td>\n",
       "      <td>1.000000</td>\n",
       "      <td>0.240000</td>\n",
       "      <td>7.388002e+06</td>\n",
       "      <td>1.000000</td>\n",
       "      <td>0.000000</td>\n",
       "    </tr>\n",
       "    <tr>\n",
       "      <th>50%</th>\n",
       "      <td>28946.500000</td>\n",
       "      <td>40.728250</td>\n",
       "      <td>-73.956720</td>\n",
       "      <td>120.000000</td>\n",
       "      <td>3.000000</td>\n",
       "      <td>4.000000</td>\n",
       "      <td>0.650000</td>\n",
       "      <td>3.352708e+07</td>\n",
       "      <td>1.000000</td>\n",
       "      <td>0.000000</td>\n",
       "    </tr>\n",
       "    <tr>\n",
       "      <th>75%</th>\n",
       "      <td>38478.500000</td>\n",
       "      <td>40.762658</td>\n",
       "      <td>-73.934202</td>\n",
       "      <td>200.000000</td>\n",
       "      <td>6.000000</td>\n",
       "      <td>16.000000</td>\n",
       "      <td>1.530000</td>\n",
       "      <td>1.207625e+08</td>\n",
       "      <td>3.000000</td>\n",
       "      <td>1.000000</td>\n",
       "    </tr>\n",
       "    <tr>\n",
       "      <th>max</th>\n",
       "      <td>48893.000000</td>\n",
       "      <td>40.898730</td>\n",
       "      <td>-73.721730</td>\n",
       "      <td>9999.000000</td>\n",
       "      <td>999.000000</td>\n",
       "      <td>395.000000</td>\n",
       "      <td>10.370000</td>\n",
       "      <td>2.738123e+08</td>\n",
       "      <td>327.000000</td>\n",
       "      <td>1.000000</td>\n",
       "    </tr>\n",
       "  </tbody>\n",
       "</table>\n",
       "</div>"
      ],
      "text/plain": [
       "                 id     latitude    longitude         cost  minimum_nights  \\\n",
       "count   2870.000000  2870.000000  2870.000000  2870.000000     2870.000000   \n",
       "mean   26760.657143    40.731224   -73.950158   195.943206       11.530314   \n",
       "std    14140.930062     0.054942     0.049745   406.184714       37.972339   \n",
       "min        0.000000    40.507080   -74.242850    10.000000        1.000000   \n",
       "25%    15931.750000    40.692463   -73.984003    75.000000        1.000000   \n",
       "50%    28946.500000    40.728250   -73.956720   120.000000        3.000000   \n",
       "75%    38478.500000    40.762658   -73.934202   200.000000        6.000000   \n",
       "max    48893.000000    40.898730   -73.721730  9999.000000      999.000000   \n",
       "\n",
       "       number_of_reviews  reviews_per_month      owner_id  owned_hotels  \\\n",
       "count        2870.000000        2194.000000  2.870000e+03   2870.000000   \n",
       "mean           16.315331           1.157502  7.202195e+07      8.411498   \n",
       "std            32.481722           1.355028  8.076516e+07     27.105522   \n",
       "min             0.000000           0.010000  2.787000e+03      1.000000   \n",
       "25%             1.000000           0.240000  7.388002e+06      1.000000   \n",
       "50%             4.000000           0.650000  3.352708e+07      1.000000   \n",
       "75%            16.000000           1.530000  1.207625e+08      3.000000   \n",
       "max           395.000000          10.370000  2.738123e+08    327.000000   \n",
       "\n",
       "       yearly_availability  \n",
       "count          2870.000000  \n",
       "mean              0.498606  \n",
       "std               0.500085  \n",
       "min               0.000000  \n",
       "25%               0.000000  \n",
       "50%               0.000000  \n",
       "75%               1.000000  \n",
       "max               1.000000  "
      ]
     },
     "execution_count": 77,
     "metadata": {},
     "output_type": "execute_result"
    }
   ],
   "source": [
    "traindata.describe()"
   ]
  },
  {
   "cell_type": "code",
   "execution_count": 78,
   "metadata": {
    "id": "osGIo7iEXVQ3"
   },
   "outputs": [],
   "source": [
    "# for a much better understanding of our dataset we will use the package pandas_profiling"
   ]
  },
  {
   "cell_type": "code",
   "execution_count": 79,
   "metadata": {
    "colab": {
     "base_uri": "https://localhost:8080/",
     "height": 1000
    },
    "id": "mrU6tYWfXbM_",
    "outputId": "f220aa6f-3b72-4dd7-bdbb-421b11ec04b9"
   },
   "outputs": [
    {
     "data": {
      "image/png": "[encoded data removed]",
      "text/plain": [
       "<Figure size 1296x1296 with 2 Axes>"
      ]
     },
     "metadata": {
      "needs_background": "light"
     },
     "output_type": "display_data"
    }
   ],
   "source": [
    "# for a better depiction of correlation between features\n",
    "correlation = traindata.corr()\n",
    "plt.figure(figsize=(18,18))\n",
    "sns.heatmap(correlation, vmax=1, square = True, annot=True, cmap='viridis')\n",
    "plt.title('Correlation')\n",
    "plt.savefig(\"correlation.png\")"
   ]
  },
  {
   "cell_type": "code",
   "execution_count": 80,
   "metadata": {
    "id": "7TYufVz2kX2h"
   },
   "outputs": [],
   "source": [
    "# we see that correlation heatmap does not offer any good insight into which feautures affect yearly_availability"
   ]
  },
  {
   "cell_type": "code",
   "execution_count": 81,
   "metadata": {
    "id": "DxLQK_YqXfeo"
   },
   "outputs": [],
   "source": [
    "# we use get_dummies method in pandas to convert region and accomodation column of the dataset from type:object to type:numerical\n",
    "# it is easier to work with numerical data as compared to categorical data"
   ]
  },
  {
   "cell_type": "code",
   "execution_count": 82,
   "metadata": {
    "id": "QO9xIqniXilL"
   },
   "outputs": [],
   "source": [
    "traindata = pd.get_dummies(traindata, columns=['region','accommodation_type'])"
   ]
  },
  {
   "cell_type": "code",
   "execution_count": 83,
   "metadata": {
    "colab": {
     "base_uri": "https://localhost:8080/",
     "height": 287
    },
    "id": "FX9J0EpVXl8E",
    "outputId": "ba87c658-5a88-4691-eaf2-1fd0a7c199ff"
   },
   "outputs": [
    {
     "data": {
      "text/html": [
       "<div>\n",
       "<style scoped>\n",
       "    .dataframe tbody tr th:only-of-type {\n",
       "        vertical-align: middle;\n",
       "    }\n",
       "\n",
       "    .dataframe tbody tr th {\n",
       "        vertical-align: top;\n",
       "    }\n",
       "\n",
       "    .dataframe thead th {\n",
       "        text-align: right;\n",
       "    }\n",
       "</style>\n",
       "<table border=\"1\" class=\"dataframe\">\n",
       "  <thead>\n",
       "    <tr style=\"text-align: right;\">\n",
       "      <th></th>\n",
       "      <th>id</th>\n",
       "      <th>latitude</th>\n",
       "      <th>longitude</th>\n",
       "      <th>cost</th>\n",
       "      <th>minimum_nights</th>\n",
       "      <th>number_of_reviews</th>\n",
       "      <th>reviews_per_month</th>\n",
       "      <th>owner_id</th>\n",
       "      <th>owned_hotels</th>\n",
       "      <th>yearly_availability</th>\n",
       "      <th>region_Bronx</th>\n",
       "      <th>region_Brooklyn</th>\n",
       "      <th>region_Manhattan</th>\n",
       "      <th>region_Queens</th>\n",
       "      <th>region_Staten Island</th>\n",
       "      <th>accommodation_type_Entire home/apt</th>\n",
       "      <th>accommodation_type_Private room</th>\n",
       "      <th>accommodation_type_Shared room</th>\n",
       "    </tr>\n",
       "  </thead>\n",
       "  <tbody>\n",
       "    <tr>\n",
       "      <th>0</th>\n",
       "      <td>13232</td>\n",
       "      <td>40.71854</td>\n",
       "      <td>-74.00439</td>\n",
       "      <td>170</td>\n",
       "      <td>5</td>\n",
       "      <td>7</td>\n",
       "      <td>0.56</td>\n",
       "      <td>929983</td>\n",
       "      <td>1</td>\n",
       "      <td>0</td>\n",
       "      <td>0</td>\n",
       "      <td>0</td>\n",
       "      <td>1</td>\n",
       "      <td>0</td>\n",
       "      <td>0</td>\n",
       "      <td>1</td>\n",
       "      <td>0</td>\n",
       "      <td>0</td>\n",
       "    </tr>\n",
       "    <tr>\n",
       "      <th>1</th>\n",
       "      <td>246</td>\n",
       "      <td>40.64446</td>\n",
       "      <td>-73.95030</td>\n",
       "      <td>65</td>\n",
       "      <td>3</td>\n",
       "      <td>238</td>\n",
       "      <td>2.30</td>\n",
       "      <td>281764</td>\n",
       "      <td>1</td>\n",
       "      <td>0</td>\n",
       "      <td>0</td>\n",
       "      <td>1</td>\n",
       "      <td>0</td>\n",
       "      <td>0</td>\n",
       "      <td>0</td>\n",
       "      <td>1</td>\n",
       "      <td>0</td>\n",
       "      <td>0</td>\n",
       "    </tr>\n",
       "    <tr>\n",
       "      <th>2</th>\n",
       "      <td>19091</td>\n",
       "      <td>40.78573</td>\n",
       "      <td>-73.81062</td>\n",
       "      <td>85</td>\n",
       "      <td>1</td>\n",
       "      <td>0</td>\n",
       "      <td>NaN</td>\n",
       "      <td>19923341</td>\n",
       "      <td>1</td>\n",
       "      <td>1</td>\n",
       "      <td>0</td>\n",
       "      <td>0</td>\n",
       "      <td>0</td>\n",
       "      <td>1</td>\n",
       "      <td>0</td>\n",
       "      <td>0</td>\n",
       "      <td>1</td>\n",
       "      <td>0</td>\n",
       "    </tr>\n",
       "    <tr>\n",
       "      <th>3</th>\n",
       "      <td>34305</td>\n",
       "      <td>40.73863</td>\n",
       "      <td>-73.98002</td>\n",
       "      <td>210</td>\n",
       "      <td>30</td>\n",
       "      <td>0</td>\n",
       "      <td>NaN</td>\n",
       "      <td>200380610</td>\n",
       "      <td>65</td>\n",
       "      <td>1</td>\n",
       "      <td>0</td>\n",
       "      <td>0</td>\n",
       "      <td>1</td>\n",
       "      <td>0</td>\n",
       "      <td>0</td>\n",
       "      <td>0</td>\n",
       "      <td>1</td>\n",
       "      <td>0</td>\n",
       "    </tr>\n",
       "    <tr>\n",
       "      <th>4</th>\n",
       "      <td>444</td>\n",
       "      <td>40.82426</td>\n",
       "      <td>-73.94630</td>\n",
       "      <td>75</td>\n",
       "      <td>3</td>\n",
       "      <td>38</td>\n",
       "      <td>0.42</td>\n",
       "      <td>745069</td>\n",
       "      <td>3</td>\n",
       "      <td>1</td>\n",
       "      <td>0</td>\n",
       "      <td>0</td>\n",
       "      <td>1</td>\n",
       "      <td>0</td>\n",
       "      <td>0</td>\n",
       "      <td>0</td>\n",
       "      <td>0</td>\n",
       "      <td>1</td>\n",
       "    </tr>\n",
       "  </tbody>\n",
       "</table>\n",
       "</div>"
      ],
      "text/plain": [
       "      id  latitude  longitude  cost  minimum_nights  number_of_reviews  \\\n",
       "0  13232  40.71854  -74.00439   170               5                  7   \n",
       "1    246  40.64446  -73.95030    65               3                238   \n",
       "2  19091  40.78573  -73.81062    85               1                  0   \n",
       "3  34305  40.73863  -73.98002   210              30                  0   \n",
       "4    444  40.82426  -73.94630    75               3                 38   \n",
       "\n",
       "   reviews_per_month   owner_id  owned_hotels  yearly_availability  \\\n",
       "0               0.56     929983             1                    0   \n",
       "1               2.30     281764             1                    0   \n",
       "2                NaN   19923341             1                    1   \n",
       "3                NaN  200380610            65                    1   \n",
       "4               0.42     745069             3                    1   \n",
       "\n",
       "   region_Bronx  region_Brooklyn  region_Manhattan  region_Queens  \\\n",
       "0             0                0                 1              0   \n",
       "1             0                1                 0              0   \n",
       "2             0                0                 0              1   \n",
       "3             0                0                 1              0   \n",
       "4             0                0                 1              0   \n",
       "\n",
       "   region_Staten Island  accommodation_type_Entire home/apt  \\\n",
       "0                     0                                   1   \n",
       "1                     0                                   1   \n",
       "2                     0                                   0   \n",
       "3                     0                                   0   \n",
       "4                     0                                   0   \n",
       "\n",
       "   accommodation_type_Private room  accommodation_type_Shared room  \n",
       "0                                0                               0  \n",
       "1                                0                               0  \n",
       "2                                1                               0  \n",
       "3                                1                               0  \n",
       "4                                0                               1  "
      ]
     },
     "execution_count": 83,
     "metadata": {},
     "output_type": "execute_result"
    }
   ],
   "source": [
    "traindata.head()"
   ]
  },
  {
   "cell_type": "code",
   "execution_count": 84,
   "metadata": {
    "colab": {
     "base_uri": "https://localhost:8080/"
    },
    "id": "v6u7CZy5Xo1V",
    "outputId": "0e9b6b14-3228-4b56-d481-6cf384a651da"
   },
   "outputs": [
    {
     "data": {
      "text/plain": [
       "id                                      int64\n",
       "latitude                              float64\n",
       "longitude                             float64\n",
       "cost                                    int64\n",
       "minimum_nights                          int64\n",
       "number_of_reviews                       int64\n",
       "reviews_per_month                     float64\n",
       "owner_id                                int64\n",
       "owned_hotels                            int64\n",
       "yearly_availability                     int64\n",
       "region_Bronx                            uint8\n",
       "region_Brooklyn                         uint8\n",
       "region_Manhattan                        uint8\n",
       "region_Queens                           uint8\n",
       "region_Staten Island                    uint8\n",
       "accommodation_type_Entire home/apt      uint8\n",
       "accommodation_type_Private room         uint8\n",
       "accommodation_type_Shared room          uint8\n",
       "dtype: object"
      ]
     },
     "execution_count": 84,
     "metadata": {},
     "output_type": "execute_result"
    }
   ],
   "source": [
    "traindata.dtypes # as we can see there is no categorical data in the dataset now"
   ]
  },
  {
   "cell_type": "markdown",
   "metadata": {
    "id": "mmzPtJgeVYqL"
   },
   "source": [
    "## Data Imputation"
   ]
  },
  {
   "cell_type": "code",
   "execution_count": 85,
   "metadata": {
    "id": "o-a-bnRrXruU"
   },
   "outputs": [],
   "source": [
    "# We can see below that the reviews_per_month has 676 missing values. To take care \n",
    "# of these missing values we use MICE(Multiple Imputations by Chained Equation) algorithm to predict the missing values. \n",
    "# We are using Linear Regresssion model to predict the values in our MICE Algorithm"
   ]
  },
  {
   "cell_type": "code",
   "execution_count": 86,
   "metadata": {
    "colab": {
     "base_uri": "https://localhost:8080/"
    },
    "id": "Bzj3PfAfYa4F",
    "outputId": "eeee5b50-0445-4352-d940-145ad6c54303"
   },
   "outputs": [
    {
     "name": "stdout",
     "output_type": "stream",
     "text": [
      "id                                      0\n",
      "latitude                                0\n",
      "longitude                               0\n",
      "cost                                    0\n",
      "minimum_nights                          0\n",
      "number_of_reviews                       0\n",
      "reviews_per_month                     676\n",
      "owner_id                                0\n",
      "owned_hotels                            0\n",
      "yearly_availability                     0\n",
      "region_Bronx                            0\n",
      "region_Brooklyn                         0\n",
      "region_Manhattan                        0\n",
      "region_Queens                           0\n",
      "region_Staten Island                    0\n",
      "accommodation_type_Entire home/apt      0\n",
      "accommodation_type_Private room         0\n",
      "accommodation_type_Shared room          0\n",
      "dtype: int64\n"
     ]
    }
   ],
   "source": [
    "print(traindata.isnull().sum())"
   ]
  },
  {
   "cell_type": "code",
   "execution_count": 87,
   "metadata": {
    "id": "zYF3VdiFXu7n"
   },
   "outputs": [],
   "source": [
    "from sklearn.experimental import enable_iterative_imputer\n",
    "from sklearn.impute import IterativeImputer\n",
    "from sklearn.linear_model import LinearRegression"
   ]
  },
  {
   "cell_type": "code",
   "execution_count": 88,
   "metadata": {
    "id": "pBAfjZShXybh"
   },
   "outputs": [],
   "source": [
    "lr=LinearRegression()\n",
    "imp = IterativeImputer(estimator=lr,missing_values=np.nan, max_iter=10, verbose=2, imputation_order='roman',random_state=0)"
   ]
  },
  {
   "cell_type": "code",
   "execution_count": 89,
   "metadata": {
    "colab": {
     "base_uri": "https://localhost:8080/"
    },
    "id": "Eb4FseyYX1d1",
    "outputId": "e0817dcf-d812-4bea-878c-0575cc1d6737"
   },
   "outputs": [
    {
     "name": "stdout",
     "output_type": "stream",
     "text": [
      "[IterativeImputer] Completing matrix with shape (2870, 18)\n",
      "[IterativeImputer] Ending imputation round 1/10, elapsed time 0.09\n",
      "[IterativeImputer] Change: 2.019535004232412, scaled tolerance: 273812.306 \n",
      "[IterativeImputer] Early stopping criterion reached.\n"
     ]
    }
   ],
   "source": [
    "traindata_imputed=imp.fit_transform(traindata)"
   ]
  },
  {
   "cell_type": "code",
   "execution_count": 90,
   "metadata": {
    "colab": {
     "base_uri": "https://localhost:8080/"
    },
    "id": "7Xg8HbkaX6fK",
    "outputId": "ae32bb69-4dab-43c4-87cc-5652dce4500f"
   },
   "outputs": [
    {
     "data": {
      "text/plain": [
       "numpy.ndarray"
      ]
     },
     "execution_count": 90,
     "metadata": {},
     "output_type": "execute_result"
    }
   ],
   "source": [
    "type(traindata_imputed)               # we see that the type of our imputed dataset is numpy. To better use pandas function and better visualization\n",
    "                                      # we convert it to pandas dataframe"
   ]
  },
  {
   "cell_type": "code",
   "execution_count": 91,
   "metadata": {
    "colab": {
     "base_uri": "https://localhost:8080/"
    },
    "id": "EV2gxLi3Wpdj",
    "outputId": "e3704844-a79f-4b7a-ab7b-800df2f5de21"
   },
   "outputs": [
    {
     "data": {
      "text/plain": [
       "pandas.core.frame.DataFrame"
      ]
     },
     "execution_count": 91,
     "metadata": {},
     "output_type": "execute_result"
    }
   ],
   "source": [
    "traindata_imputed = pd.DataFrame(traindata_imputed)\n",
    "type(traindata_imputed)"
   ]
  },
  {
   "cell_type": "code",
   "execution_count": 92,
   "metadata": {
    "colab": {
     "base_uri": "https://localhost:8080/"
    },
    "id": "BD56B5KtYn9s",
    "outputId": "620b3c96-4f58-4cf0-94fe-20b7617c30b5"
   },
   "outputs": [
    {
     "name": "stdout",
     "output_type": "stream",
     "text": [
      "0     0\n",
      "1     0\n",
      "2     0\n",
      "3     0\n",
      "4     0\n",
      "5     0\n",
      "6     0\n",
      "7     0\n",
      "8     0\n",
      "9     0\n",
      "10    0\n",
      "11    0\n",
      "12    0\n",
      "13    0\n",
      "14    0\n",
      "15    0\n",
      "16    0\n",
      "17    0\n",
      "dtype: int64\n"
     ]
    }
   ],
   "source": [
    "print(traindata_imputed.isnull().sum())"
   ]
  },
  {
   "cell_type": "code",
   "execution_count": 93,
   "metadata": {
    "colab": {
     "base_uri": "https://localhost:8080/",
     "height": 206
    },
    "id": "R0zBQZjfYCBi",
    "outputId": "fb2a1403-3fa3-4c6e-fb39-5f49e9556d34"
   },
   "outputs": [
    {
     "data": {
      "text/html": [
       "<div>\n",
       "<style scoped>\n",
       "    .dataframe tbody tr th:only-of-type {\n",
       "        vertical-align: middle;\n",
       "    }\n",
       "\n",
       "    .dataframe tbody tr th {\n",
       "        vertical-align: top;\n",
       "    }\n",
       "\n",
       "    .dataframe thead th {\n",
       "        text-align: right;\n",
       "    }\n",
       "</style>\n",
       "<table border=\"1\" class=\"dataframe\">\n",
       "  <thead>\n",
       "    <tr style=\"text-align: right;\">\n",
       "      <th></th>\n",
       "      <th>0</th>\n",
       "      <th>1</th>\n",
       "      <th>2</th>\n",
       "      <th>3</th>\n",
       "      <th>4</th>\n",
       "      <th>5</th>\n",
       "      <th>6</th>\n",
       "      <th>7</th>\n",
       "      <th>8</th>\n",
       "      <th>9</th>\n",
       "      <th>10</th>\n",
       "      <th>11</th>\n",
       "      <th>12</th>\n",
       "      <th>13</th>\n",
       "      <th>14</th>\n",
       "      <th>15</th>\n",
       "      <th>16</th>\n",
       "      <th>17</th>\n",
       "    </tr>\n",
       "  </thead>\n",
       "  <tbody>\n",
       "    <tr>\n",
       "      <th>0</th>\n",
       "      <td>13232.0</td>\n",
       "      <td>40.71854</td>\n",
       "      <td>-74.00439</td>\n",
       "      <td>170.0</td>\n",
       "      <td>5.0</td>\n",
       "      <td>7.0</td>\n",
       "      <td>0.560000</td>\n",
       "      <td>929983.0</td>\n",
       "      <td>1.0</td>\n",
       "      <td>0.0</td>\n",
       "      <td>0.0</td>\n",
       "      <td>0.0</td>\n",
       "      <td>1.0</td>\n",
       "      <td>0.0</td>\n",
       "      <td>0.0</td>\n",
       "      <td>1.0</td>\n",
       "      <td>0.0</td>\n",
       "      <td>0.0</td>\n",
       "    </tr>\n",
       "    <tr>\n",
       "      <th>1</th>\n",
       "      <td>246.0</td>\n",
       "      <td>40.64446</td>\n",
       "      <td>-73.95030</td>\n",
       "      <td>65.0</td>\n",
       "      <td>3.0</td>\n",
       "      <td>238.0</td>\n",
       "      <td>2.300000</td>\n",
       "      <td>281764.0</td>\n",
       "      <td>1.0</td>\n",
       "      <td>0.0</td>\n",
       "      <td>0.0</td>\n",
       "      <td>1.0</td>\n",
       "      <td>0.0</td>\n",
       "      <td>0.0</td>\n",
       "      <td>0.0</td>\n",
       "      <td>1.0</td>\n",
       "      <td>0.0</td>\n",
       "      <td>0.0</td>\n",
       "    </tr>\n",
       "    <tr>\n",
       "      <th>2</th>\n",
       "      <td>19091.0</td>\n",
       "      <td>40.78573</td>\n",
       "      <td>-73.81062</td>\n",
       "      <td>85.0</td>\n",
       "      <td>1.0</td>\n",
       "      <td>0.0</td>\n",
       "      <td>0.326637</td>\n",
       "      <td>19923341.0</td>\n",
       "      <td>1.0</td>\n",
       "      <td>1.0</td>\n",
       "      <td>0.0</td>\n",
       "      <td>0.0</td>\n",
       "      <td>0.0</td>\n",
       "      <td>1.0</td>\n",
       "      <td>0.0</td>\n",
       "      <td>0.0</td>\n",
       "      <td>1.0</td>\n",
       "      <td>0.0</td>\n",
       "    </tr>\n",
       "    <tr>\n",
       "      <th>3</th>\n",
       "      <td>34305.0</td>\n",
       "      <td>40.73863</td>\n",
       "      <td>-73.98002</td>\n",
       "      <td>210.0</td>\n",
       "      <td>30.0</td>\n",
       "      <td>0.0</td>\n",
       "      <td>0.872628</td>\n",
       "      <td>200380610.0</td>\n",
       "      <td>65.0</td>\n",
       "      <td>1.0</td>\n",
       "      <td>0.0</td>\n",
       "      <td>0.0</td>\n",
       "      <td>1.0</td>\n",
       "      <td>0.0</td>\n",
       "      <td>0.0</td>\n",
       "      <td>0.0</td>\n",
       "      <td>1.0</td>\n",
       "      <td>0.0</td>\n",
       "    </tr>\n",
       "    <tr>\n",
       "      <th>4</th>\n",
       "      <td>444.0</td>\n",
       "      <td>40.82426</td>\n",
       "      <td>-73.94630</td>\n",
       "      <td>75.0</td>\n",
       "      <td>3.0</td>\n",
       "      <td>38.0</td>\n",
       "      <td>0.420000</td>\n",
       "      <td>745069.0</td>\n",
       "      <td>3.0</td>\n",
       "      <td>1.0</td>\n",
       "      <td>0.0</td>\n",
       "      <td>0.0</td>\n",
       "      <td>1.0</td>\n",
       "      <td>0.0</td>\n",
       "      <td>0.0</td>\n",
       "      <td>0.0</td>\n",
       "      <td>0.0</td>\n",
       "      <td>1.0</td>\n",
       "    </tr>\n",
       "  </tbody>\n",
       "</table>\n",
       "</div>"
      ],
      "text/plain": [
       "        0         1         2      3     4      5         6            7   \\\n",
       "0  13232.0  40.71854 -74.00439  170.0   5.0    7.0  0.560000     929983.0   \n",
       "1    246.0  40.64446 -73.95030   65.0   3.0  238.0  2.300000     281764.0   \n",
       "2  19091.0  40.78573 -73.81062   85.0   1.0    0.0  0.326637   19923341.0   \n",
       "3  34305.0  40.73863 -73.98002  210.0  30.0    0.0  0.872628  200380610.0   \n",
       "4    444.0  40.82426 -73.94630   75.0   3.0   38.0  0.420000     745069.0   \n",
       "\n",
       "     8    9    10   11   12   13   14   15   16   17  \n",
       "0   1.0  0.0  0.0  0.0  1.0  0.0  0.0  1.0  0.0  0.0  \n",
       "1   1.0  0.0  0.0  1.0  0.0  0.0  0.0  1.0  0.0  0.0  \n",
       "2   1.0  1.0  0.0  0.0  0.0  1.0  0.0  0.0  1.0  0.0  \n",
       "3  65.0  1.0  0.0  0.0  1.0  0.0  0.0  0.0  1.0  0.0  \n",
       "4   3.0  1.0  0.0  0.0  1.0  0.0  0.0  0.0  0.0  1.0  "
      ]
     },
     "execution_count": 93,
     "metadata": {},
     "output_type": "execute_result"
    }
   ],
   "source": [
    "traindata_imputed.head()"
   ]
  },
  {
   "cell_type": "code",
   "execution_count": 94,
   "metadata": {
    "id": "Qi-n1smlYEcE"
   },
   "outputs": [],
   "source": [
    "# the column names were reset so to get it back we use the below code\n",
    "traindata_imputed.columns =['id','latitude','longitude','cost','minimum_nights','number_of_reviews','reviews_per_month','owner_id','owned_hotels','yearly_availability','region_Bronx','region_Brooklyn','region_Manhattan','region_Queens','region_StatenIsland','accommodation_type_Entire home/apt','accommodation_type_Private room','accommodation_type_Shared room']"
   ]
  },
  {
   "cell_type": "code",
   "execution_count": 95,
   "metadata": {
    "colab": {
     "base_uri": "https://localhost:8080/",
     "height": 287
    },
    "id": "KG88kt1DYLNf",
    "outputId": "a87a0094-5663-48bf-8ddd-ef9d932d893e"
   },
   "outputs": [
    {
     "data": {
      "text/html": [
       "<div>\n",
       "<style scoped>\n",
       "    .dataframe tbody tr th:only-of-type {\n",
       "        vertical-align: middle;\n",
       "    }\n",
       "\n",
       "    .dataframe tbody tr th {\n",
       "        vertical-align: top;\n",
       "    }\n",
       "\n",
       "    .dataframe thead th {\n",
       "        text-align: right;\n",
       "    }\n",
       "</style>\n",
       "<table border=\"1\" class=\"dataframe\">\n",
       "  <thead>\n",
       "    <tr style=\"text-align: right;\">\n",
       "      <th></th>\n",
       "      <th>id</th>\n",
       "      <th>latitude</th>\n",
       "      <th>longitude</th>\n",
       "      <th>cost</th>\n",
       "      <th>minimum_nights</th>\n",
       "      <th>number_of_reviews</th>\n",
       "      <th>reviews_per_month</th>\n",
       "      <th>owner_id</th>\n",
       "      <th>owned_hotels</th>\n",
       "      <th>yearly_availability</th>\n",
       "      <th>region_Bronx</th>\n",
       "      <th>region_Brooklyn</th>\n",
       "      <th>region_Manhattan</th>\n",
       "      <th>region_Queens</th>\n",
       "      <th>region_StatenIsland</th>\n",
       "      <th>accommodation_type_Entire home/apt</th>\n",
       "      <th>accommodation_type_Private room</th>\n",
       "      <th>accommodation_type_Shared room</th>\n",
       "    </tr>\n",
       "  </thead>\n",
       "  <tbody>\n",
       "    <tr>\n",
       "      <th>0</th>\n",
       "      <td>13232.0</td>\n",
       "      <td>40.71854</td>\n",
       "      <td>-74.00439</td>\n",
       "      <td>170.0</td>\n",
       "      <td>5.0</td>\n",
       "      <td>7.0</td>\n",
       "      <td>0.560000</td>\n",
       "      <td>929983.0</td>\n",
       "      <td>1.0</td>\n",
       "      <td>0.0</td>\n",
       "      <td>0.0</td>\n",
       "      <td>0.0</td>\n",
       "      <td>1.0</td>\n",
       "      <td>0.0</td>\n",
       "      <td>0.0</td>\n",
       "      <td>1.0</td>\n",
       "      <td>0.0</td>\n",
       "      <td>0.0</td>\n",
       "    </tr>\n",
       "    <tr>\n",
       "      <th>1</th>\n",
       "      <td>246.0</td>\n",
       "      <td>40.64446</td>\n",
       "      <td>-73.95030</td>\n",
       "      <td>65.0</td>\n",
       "      <td>3.0</td>\n",
       "      <td>238.0</td>\n",
       "      <td>2.300000</td>\n",
       "      <td>281764.0</td>\n",
       "      <td>1.0</td>\n",
       "      <td>0.0</td>\n",
       "      <td>0.0</td>\n",
       "      <td>1.0</td>\n",
       "      <td>0.0</td>\n",
       "      <td>0.0</td>\n",
       "      <td>0.0</td>\n",
       "      <td>1.0</td>\n",
       "      <td>0.0</td>\n",
       "      <td>0.0</td>\n",
       "    </tr>\n",
       "    <tr>\n",
       "      <th>2</th>\n",
       "      <td>19091.0</td>\n",
       "      <td>40.78573</td>\n",
       "      <td>-73.81062</td>\n",
       "      <td>85.0</td>\n",
       "      <td>1.0</td>\n",
       "      <td>0.0</td>\n",
       "      <td>0.326637</td>\n",
       "      <td>19923341.0</td>\n",
       "      <td>1.0</td>\n",
       "      <td>1.0</td>\n",
       "      <td>0.0</td>\n",
       "      <td>0.0</td>\n",
       "      <td>0.0</td>\n",
       "      <td>1.0</td>\n",
       "      <td>0.0</td>\n",
       "      <td>0.0</td>\n",
       "      <td>1.0</td>\n",
       "      <td>0.0</td>\n",
       "    </tr>\n",
       "    <tr>\n",
       "      <th>3</th>\n",
       "      <td>34305.0</td>\n",
       "      <td>40.73863</td>\n",
       "      <td>-73.98002</td>\n",
       "      <td>210.0</td>\n",
       "      <td>30.0</td>\n",
       "      <td>0.0</td>\n",
       "      <td>0.872628</td>\n",
       "      <td>200380610.0</td>\n",
       "      <td>65.0</td>\n",
       "      <td>1.0</td>\n",
       "      <td>0.0</td>\n",
       "      <td>0.0</td>\n",
       "      <td>1.0</td>\n",
       "      <td>0.0</td>\n",
       "      <td>0.0</td>\n",
       "      <td>0.0</td>\n",
       "      <td>1.0</td>\n",
       "      <td>0.0</td>\n",
       "    </tr>\n",
       "    <tr>\n",
       "      <th>4</th>\n",
       "      <td>444.0</td>\n",
       "      <td>40.82426</td>\n",
       "      <td>-73.94630</td>\n",
       "      <td>75.0</td>\n",
       "      <td>3.0</td>\n",
       "      <td>38.0</td>\n",
       "      <td>0.420000</td>\n",
       "      <td>745069.0</td>\n",
       "      <td>3.0</td>\n",
       "      <td>1.0</td>\n",
       "      <td>0.0</td>\n",
       "      <td>0.0</td>\n",
       "      <td>1.0</td>\n",
       "      <td>0.0</td>\n",
       "      <td>0.0</td>\n",
       "      <td>0.0</td>\n",
       "      <td>0.0</td>\n",
       "      <td>1.0</td>\n",
       "    </tr>\n",
       "  </tbody>\n",
       "</table>\n",
       "</div>"
      ],
      "text/plain": [
       "        id  latitude  longitude   cost  minimum_nights  number_of_reviews  \\\n",
       "0  13232.0  40.71854  -74.00439  170.0             5.0                7.0   \n",
       "1    246.0  40.64446  -73.95030   65.0             3.0              238.0   \n",
       "2  19091.0  40.78573  -73.81062   85.0             1.0                0.0   \n",
       "3  34305.0  40.73863  -73.98002  210.0            30.0                0.0   \n",
       "4    444.0  40.82426  -73.94630   75.0             3.0               38.0   \n",
       "\n",
       "   reviews_per_month     owner_id  owned_hotels  yearly_availability  \\\n",
       "0           0.560000     929983.0           1.0                  0.0   \n",
       "1           2.300000     281764.0           1.0                  0.0   \n",
       "2           0.326637   19923341.0           1.0                  1.0   \n",
       "3           0.872628  200380610.0          65.0                  1.0   \n",
       "4           0.420000     745069.0           3.0                  1.0   \n",
       "\n",
       "   region_Bronx  region_Brooklyn  region_Manhattan  region_Queens  \\\n",
       "0           0.0              0.0               1.0            0.0   \n",
       "1           0.0              1.0               0.0            0.0   \n",
       "2           0.0              0.0               0.0            1.0   \n",
       "3           0.0              0.0               1.0            0.0   \n",
       "4           0.0              0.0               1.0            0.0   \n",
       "\n",
       "   region_StatenIsland  accommodation_type_Entire home/apt  \\\n",
       "0                  0.0                                 1.0   \n",
       "1                  0.0                                 1.0   \n",
       "2                  0.0                                 0.0   \n",
       "3                  0.0                                 0.0   \n",
       "4                  0.0                                 0.0   \n",
       "\n",
       "   accommodation_type_Private room  accommodation_type_Shared room  \n",
       "0                              0.0                             0.0  \n",
       "1                              0.0                             0.0  \n",
       "2                              1.0                             0.0  \n",
       "3                              1.0                             0.0  \n",
       "4                              0.0                             1.0  "
      ]
     },
     "execution_count": 95,
     "metadata": {},
     "output_type": "execute_result"
    }
   ],
   "source": [
    "traindata_imputed.head()"
   ]
  },
  {
   "cell_type": "code",
   "execution_count": 96,
   "metadata": {
    "id": "FfbAXNHzYQD4"
   },
   "outputs": [],
   "source": [
    "# # Visualization, Modeling, Machine Learning\n",
    "\n",
    "# #Build a model that categorizes hotels on the basis of their yearly availability. Identify how different features influence the decision. Please explain the findings effectively to technical and non-technical audiences using comments and visualizations, if appropriate\n",
    "\n",
    "\n",
    "# *  **Build and optimized model that effectively solves the business problem** \n",
    "# *  **The model will be evaluated on the basis of Accuracy**\n",
    "# *  **Read the test.csv file and prepare features for testing**\n"
   ]
  },
  {
   "cell_type": "markdown",
   "metadata": {
    "id": "md6PteBPZzoL"
   },
   "source": [
    "## Feature Selection"
   ]
  },
  {
   "cell_type": "code",
   "execution_count": 97,
   "metadata": {
    "id": "k0OW1pOMYWmK"
   },
   "outputs": [],
   "source": [
    "#splicing the dataset into input(consisting of only input features) dataframe and target('yearly_availability') dataframe\n",
    "xtrain= traindata_imputed.loc[:, traindata_imputed.columns != 'yearly_availability']\n",
    "ytrain = traindata_imputed.loc[:, traindata_imputed.columns == 'yearly_availability']"
   ]
  },
  {
   "cell_type": "code",
   "execution_count": 98,
   "metadata": {
    "colab": {
     "base_uri": "https://localhost:8080/"
    },
    "id": "csxFqAqwZM2j",
    "outputId": "42e2f494-690c-4023-d240-4d25205f8839"
   },
   "outputs": [
    {
     "data": {
      "text/plain": [
       "pandas.core.frame.DataFrame"
      ]
     },
     "execution_count": 98,
     "metadata": {},
     "output_type": "execute_result"
    }
   ],
   "source": [
    "type(xtrain)"
   ]
  },
  {
   "cell_type": "code",
   "execution_count": 99,
   "metadata": {
    "id": "PuTKk2FOYn6r"
   },
   "outputs": [],
   "source": [
    "# we will scale our dataset using a standard scaler for later use in our ML models\n",
    "from sklearn.preprocessing import StandardScaler"
   ]
  },
  {
   "cell_type": "code",
   "execution_count": 100,
   "metadata": {
    "colab": {
     "base_uri": "https://localhost:8080/",
     "height": 287
    },
    "id": "G8c397OuYwCY",
    "outputId": "2067a20a-b880-4038-e2e3-7ec5b1ad7e2b"
   },
   "outputs": [
    {
     "data": {
      "text/html": [
       "<div>\n",
       "<style scoped>\n",
       "    .dataframe tbody tr th:only-of-type {\n",
       "        vertical-align: middle;\n",
       "    }\n",
       "\n",
       "    .dataframe tbody tr th {\n",
       "        vertical-align: top;\n",
       "    }\n",
       "\n",
       "    .dataframe thead th {\n",
       "        text-align: right;\n",
       "    }\n",
       "</style>\n",
       "<table border=\"1\" class=\"dataframe\">\n",
       "  <thead>\n",
       "    <tr style=\"text-align: right;\">\n",
       "      <th></th>\n",
       "      <th>id</th>\n",
       "      <th>latitude</th>\n",
       "      <th>longitude</th>\n",
       "      <th>cost</th>\n",
       "      <th>minimum_nights</th>\n",
       "      <th>number_of_reviews</th>\n",
       "      <th>reviews_per_month</th>\n",
       "      <th>owner_id</th>\n",
       "      <th>owned_hotels</th>\n",
       "      <th>region_Bronx</th>\n",
       "      <th>region_Brooklyn</th>\n",
       "      <th>region_Manhattan</th>\n",
       "      <th>region_Queens</th>\n",
       "      <th>region_StatenIsland</th>\n",
       "      <th>accommodation_type_Entire home/apt</th>\n",
       "      <th>accommodation_type_Private room</th>\n",
       "      <th>accommodation_type_Shared room</th>\n",
       "    </tr>\n",
       "  </thead>\n",
       "  <tbody>\n",
       "    <tr>\n",
       "      <th>0</th>\n",
       "      <td>-0.956869</td>\n",
       "      <td>-0.230897</td>\n",
       "      <td>-1.090408</td>\n",
       "      <td>-0.063882</td>\n",
       "      <td>-0.172006</td>\n",
       "      <td>-0.286837</td>\n",
       "      <td>-0.421698</td>\n",
       "      <td>-0.880384</td>\n",
       "      <td>-0.273479</td>\n",
       "      <td>-0.167144</td>\n",
       "      <td>-0.773877</td>\n",
       "      <td>1.073796</td>\n",
       "      <td>-0.384708</td>\n",
       "      <td>-0.070014</td>\n",
       "      <td>1.365383</td>\n",
       "      <td>-0.862949</td>\n",
       "      <td>-0.537335</td>\n",
       "    </tr>\n",
       "    <tr>\n",
       "      <th>1</th>\n",
       "      <td>-1.875356</td>\n",
       "      <td>-1.579468</td>\n",
       "      <td>-0.002863</td>\n",
       "      <td>-0.322430</td>\n",
       "      <td>-0.224685</td>\n",
       "      <td>6.826094</td>\n",
       "      <td>0.975021</td>\n",
       "      <td>-0.888411</td>\n",
       "      <td>-0.273479</td>\n",
       "      <td>-0.167144</td>\n",
       "      <td>1.292195</td>\n",
       "      <td>-0.931275</td>\n",
       "      <td>-0.384708</td>\n",
       "      <td>-0.070014</td>\n",
       "      <td>1.365383</td>\n",
       "      <td>-0.862949</td>\n",
       "      <td>-0.537335</td>\n",
       "    </tr>\n",
       "    <tr>\n",
       "      <th>2</th>\n",
       "      <td>-0.542467</td>\n",
       "      <td>0.992246</td>\n",
       "      <td>2.805573</td>\n",
       "      <td>-0.273182</td>\n",
       "      <td>-0.277364</td>\n",
       "      <td>-0.502380</td>\n",
       "      <td>-0.609022</td>\n",
       "      <td>-0.645175</td>\n",
       "      <td>-0.273479</td>\n",
       "      <td>-0.167144</td>\n",
       "      <td>-0.773877</td>\n",
       "      <td>-0.931275</td>\n",
       "      <td>2.599376</td>\n",
       "      <td>-0.070014</td>\n",
       "      <td>-0.732395</td>\n",
       "      <td>1.158817</td>\n",
       "      <td>-0.537335</td>\n",
       "    </tr>\n",
       "    <tr>\n",
       "      <th>3</th>\n",
       "      <td>0.533604</td>\n",
       "      <td>0.134826</td>\n",
       "      <td>-0.600420</td>\n",
       "      <td>0.034613</td>\n",
       "      <td>0.486483</td>\n",
       "      <td>-0.502380</td>\n",
       "      <td>-0.170748</td>\n",
       "      <td>1.589560</td>\n",
       "      <td>2.088075</td>\n",
       "      <td>-0.167144</td>\n",
       "      <td>-0.773877</td>\n",
       "      <td>1.073796</td>\n",
       "      <td>-0.384708</td>\n",
       "      <td>-0.070014</td>\n",
       "      <td>-0.732395</td>\n",
       "      <td>1.158817</td>\n",
       "      <td>-0.537335</td>\n",
       "    </tr>\n",
       "    <tr>\n",
       "      <th>4</th>\n",
       "      <td>-1.861352</td>\n",
       "      <td>1.693655</td>\n",
       "      <td>0.077562</td>\n",
       "      <td>-0.297806</td>\n",
       "      <td>-0.224685</td>\n",
       "      <td>0.667712</td>\n",
       "      <td>-0.534078</td>\n",
       "      <td>-0.882674</td>\n",
       "      <td>-0.199680</td>\n",
       "      <td>-0.167144</td>\n",
       "      <td>-0.773877</td>\n",
       "      <td>1.073796</td>\n",
       "      <td>-0.384708</td>\n",
       "      <td>-0.070014</td>\n",
       "      <td>-0.732395</td>\n",
       "      <td>-0.862949</td>\n",
       "      <td>1.861035</td>\n",
       "    </tr>\n",
       "  </tbody>\n",
       "</table>\n",
       "</div>"
      ],
      "text/plain": [
       "         id  latitude  longitude      cost  minimum_nights  number_of_reviews  \\\n",
       "0 -0.956869 -0.230897  -1.090408 -0.063882       -0.172006          -0.286837   \n",
       "1 -1.875356 -1.579468  -0.002863 -0.322430       -0.224685           6.826094   \n",
       "2 -0.542467  0.992246   2.805573 -0.273182       -0.277364          -0.502380   \n",
       "3  0.533604  0.134826  -0.600420  0.034613        0.486483          -0.502380   \n",
       "4 -1.861352  1.693655   0.077562 -0.297806       -0.224685           0.667712   \n",
       "\n",
       "   reviews_per_month  owner_id  owned_hotels  region_Bronx  region_Brooklyn  \\\n",
       "0          -0.421698 -0.880384     -0.273479     -0.167144        -0.773877   \n",
       "1           0.975021 -0.888411     -0.273479     -0.167144         1.292195   \n",
       "2          -0.609022 -0.645175     -0.273479     -0.167144        -0.773877   \n",
       "3          -0.170748  1.589560      2.088075     -0.167144        -0.773877   \n",
       "4          -0.534078 -0.882674     -0.199680     -0.167144        -0.773877   \n",
       "\n",
       "   region_Manhattan  region_Queens  region_StatenIsland  \\\n",
       "0          1.073796      -0.384708            -0.070014   \n",
       "1         -0.931275      -0.384708            -0.070014   \n",
       "2         -0.931275       2.599376            -0.070014   \n",
       "3          1.073796      -0.384708            -0.070014   \n",
       "4          1.073796      -0.384708            -0.070014   \n",
       "\n",
       "   accommodation_type_Entire home/apt  accommodation_type_Private room  \\\n",
       "0                            1.365383                        -0.862949   \n",
       "1                            1.365383                        -0.862949   \n",
       "2                           -0.732395                         1.158817   \n",
       "3                           -0.732395                         1.158817   \n",
       "4                           -0.732395                        -0.862949   \n",
       "\n",
       "   accommodation_type_Shared room  \n",
       "0                       -0.537335  \n",
       "1                       -0.537335  \n",
       "2                       -0.537335  \n",
       "3                       -0.537335  \n",
       "4                        1.861035  "
      ]
     },
     "execution_count": 100,
     "metadata": {},
     "output_type": "execute_result"
    }
   ],
   "source": [
    "scaler = StandardScaler()\n",
    "xtrain= scaler.fit_transform(xtrain)\n",
    "xtrain_pd = pd.DataFrame(xtrain)\n",
    "xtrain_pd.columns =['id','latitude','longitude','cost','minimum_nights','number_of_reviews','reviews_per_month','owner_id','owned_hotels','region_Bronx','region_Brooklyn','region_Manhattan','region_Queens','region_StatenIsland','accommodation_type_Entire home/apt','accommodation_type_Private room','accommodation_type_Shared room']\n",
    "xtrain_pd.head()"
   ]
  },
  {
   "cell_type": "code",
   "execution_count": 101,
   "metadata": {
    "colab": {
     "base_uri": "https://localhost:8080/",
     "height": 332
    },
    "id": "X93ZAzbDYZPD",
    "outputId": "8552ac02-540f-40f1-935c-94c6cb835eeb"
   },
   "outputs": [
    {
     "name": "stdout",
     "output_type": "stream",
     "text": [
      "[0.06032647 0.03584265 0.03685931 0.03414906 0.03664109 0.05679003\n",
      " 0.04515392 0.04136788 0.09582185 0.00553117 0.00487953 0.0062629\n",
      " 0.0061008  0.00034013 0.22870542 0.25712034 0.04810743]\n"
     ]
    },
    {
     "data": {
      "image/png": "[encoded data removed]",
      "text/plain": [
       "<Figure size 432x288 with 1 Axes>"
      ]
     },
     "metadata": {
      "needs_background": "light"
     },
     "output_type": "display_data"
    }
   ],
   "source": [
    "# we will be using Extra Trees Classifier to find a score of the features for their contribution towards our output variable('yearly_availability')\n",
    "from sklearn.ensemble import ExtraTreesClassifier\n",
    "model = ExtraTreesClassifier()\n",
    "model.fit(xtrain,ytrain.values.ravel())\n",
    "print((model.feature_importances_)) #using inbuilt class feature_importances of tree based classifiers\n",
    "#plotting graph of feature importances for better visualization\n",
    "feat_importances = pd.Series(model.feature_importances_, index=xtrain_pd.columns)\n",
    "feat_importances.plot(kind='barh')\n",
    "plt.xlabel('score')\n",
    "plt.show()"
   ]
  },
  {
   "cell_type": "code",
   "execution_count": 102,
   "metadata": {
    "id": "tOLpU8hdhFSU"
   },
   "outputs": [],
   "source": [
    "# as we can see the region_statenIsland, region_Queens, region_Manhattan, region_Brooklyn, region_Bronx least contribute to the output. "
   ]
  },
  {
   "cell_type": "markdown",
   "metadata": {
    "id": "jq3wO-zMaOdh"
   },
   "source": [
    "## Training our Dataset"
   ]
  },
  {
   "cell_type": "code",
   "execution_count": 103,
   "metadata": {
    "colab": {
     "base_uri": "https://localhost:8080/"
    },
    "id": "s2vbCZ00DaCB",
    "outputId": "816f1797-d20c-4f54-ea23-24b7dc1c8334"
   },
   "outputs": [
    {
     "name": "stdout",
     "output_type": "stream",
     "text": [
      "(2296, 17) (2296, 1)\n",
      "(574, 17) (574, 1)\n"
     ]
    }
   ],
   "source": [
    "from sklearn.model_selection import train_test_split\n",
    "X_train, X_test, y_train, y_test = train_test_split(xtrain, ytrain, stratify=ytrain, test_size=0.2)\n",
    "print (X_train.shape, y_train.shape)\n",
    "print (X_test.shape, y_test.shape)"
   ]
  },
  {
   "cell_type": "code",
   "execution_count": 104,
   "metadata": {
    "colab": {
     "base_uri": "https://localhost:8080/"
    },
    "id": "LxGZkdoTDZ_l",
    "outputId": "7b6ac34b-c63f-463a-df1a-61c2c4e7daf1"
   },
   "outputs": [
    {
     "ename": "XGBoostError",
     "evalue": "\nXGBoost Library (libxgboost.dylib) could not be loaded.\nLikely causes:\n  * OpenMP runtime is not installed\n    - vcomp140.dll or libgomp-1.dll for Windows\n    - libomp.dylib for Mac OSX\n    - libgomp.so for Linux and other UNIX-like OSes\n    Mac OSX users: Run `brew install libomp` to install OpenMP runtime.\n\n  * You are running 32-bit Python on a 64-bit OS\n\nError message(s): ['dlopen(/Users/billy/temp_env/lib/python3.8/site-packages/xgboost/lib/libxgboost.dylib, 6): Library not loaded: /usr/local/opt/libomp/lib/libomp.dylib\\n  Referenced from: /Users/billy/temp_env/lib/python3.8/site-packages/xgboost/lib/libxgboost.dylib\\n  Reason: image not found']\n",
     "output_type": "error",
     "traceback": [
      "\u001b[0;31m---------------------------------------------------------------------------\u001b[0m",
      "\u001b[0;31mXGBoostError\u001b[0m                              Traceback (most recent call last)",
      "Input \u001b[0;32mIn [104]\u001b[0m, in \u001b[0;36m<module>\u001b[0;34m\u001b[0m\n\u001b[0;32m----> 1\u001b[0m \u001b[38;5;28;01mimport\u001b[39;00m \u001b[38;5;21;01mxgboost\u001b[39;00m \u001b[38;5;28;01mas\u001b[39;00m \u001b[38;5;21;01mxgb\u001b[39;00m\n\u001b[1;32m      2\u001b[0m xgb_cl \u001b[38;5;241m=\u001b[39m xgb\u001b[38;5;241m.\u001b[39mXGBClassifier()\n\u001b[1;32m      3\u001b[0m xgb_cl\u001b[38;5;241m.\u001b[39mfit(X_train, y_train)\n",
      "File \u001b[0;32m~/temp_env/lib/python3.8/site-packages/xgboost/__init__.py:9\u001b[0m, in \u001b[0;36m<module>\u001b[0;34m\u001b[0m\n\u001b[1;32m      2\u001b[0m \u001b[38;5;124;03m\"\"\"XGBoost: eXtreme Gradient Boosting library.\u001b[39;00m\n\u001b[1;32m      3\u001b[0m \n\u001b[1;32m      4\u001b[0m \u001b[38;5;124;03mContributors: https://github.com/dmlc/xgboost/blob/master/CONTRIBUTORS.md\u001b[39;00m\n\u001b[1;32m      5\u001b[0m \u001b[38;5;124;03m\"\"\"\u001b[39;00m\n\u001b[1;32m      7\u001b[0m \u001b[38;5;28;01mimport\u001b[39;00m \u001b[38;5;21;01mos\u001b[39;00m\n\u001b[0;32m----> 9\u001b[0m \u001b[38;5;28;01mfrom\u001b[39;00m \u001b[38;5;21;01m.\u001b[39;00m\u001b[38;5;21;01mcore\u001b[39;00m \u001b[38;5;28;01mimport\u001b[39;00m DMatrix, DeviceQuantileDMatrix, Booster, DataIter\n\u001b[1;32m     10\u001b[0m \u001b[38;5;28;01mfrom\u001b[39;00m \u001b[38;5;21;01m.\u001b[39;00m\u001b[38;5;21;01mtraining\u001b[39;00m \u001b[38;5;28;01mimport\u001b[39;00m train, cv\n\u001b[1;32m     11\u001b[0m \u001b[38;5;28;01mfrom\u001b[39;00m \u001b[38;5;21;01m.\u001b[39;00m \u001b[38;5;28;01mimport\u001b[39;00m rabit  \u001b[38;5;66;03m# noqa\u001b[39;00m\n",
      "File \u001b[0;32m~/temp_env/lib/python3.8/site-packages/xgboost/core.py:203\u001b[0m, in \u001b[0;36m<module>\u001b[0;34m\u001b[0m\n\u001b[1;32m    199\u001b[0m     \u001b[38;5;28;01mreturn\u001b[39;00m lib\n\u001b[1;32m    202\u001b[0m \u001b[38;5;66;03m# load the XGBoost library globally\u001b[39;00m\n\u001b[0;32m--> 203\u001b[0m _LIB \u001b[38;5;241m=\u001b[39m \u001b[43m_load_lib\u001b[49m\u001b[43m(\u001b[49m\u001b[43m)\u001b[49m\n\u001b[1;32m    206\u001b[0m \u001b[38;5;28;01mdef\u001b[39;00m \u001b[38;5;21m_check_call\u001b[39m(ret):\n\u001b[1;32m    207\u001b[0m     \u001b[38;5;124;03m\"\"\"Check the return value of C API call\u001b[39;00m\n\u001b[1;32m    208\u001b[0m \n\u001b[1;32m    209\u001b[0m \u001b[38;5;124;03m    This function will raise exception when error occurs.\u001b[39;00m\n\u001b[0;32m   (...)\u001b[0m\n\u001b[1;32m    215\u001b[0m \u001b[38;5;124;03m        return value from API calls\u001b[39;00m\n\u001b[1;32m    216\u001b[0m \u001b[38;5;124;03m    \"\"\"\u001b[39;00m\n",
      "File \u001b[0;32m~/temp_env/lib/python3.8/site-packages/xgboost/core.py:181\u001b[0m, in \u001b[0;36m_load_lib\u001b[0;34m()\u001b[0m\n\u001b[1;32m    179\u001b[0m     \u001b[38;5;28;01mif\u001b[39;00m \u001b[38;5;129;01mnot\u001b[39;00m lib_success:\n\u001b[1;32m    180\u001b[0m         libname \u001b[38;5;241m=\u001b[39m os\u001b[38;5;241m.\u001b[39mpath\u001b[38;5;241m.\u001b[39mbasename(lib_paths[\u001b[38;5;241m0\u001b[39m])\n\u001b[0;32m--> 181\u001b[0m         \u001b[38;5;28;01mraise\u001b[39;00m XGBoostError(\n\u001b[1;32m    182\u001b[0m             \u001b[38;5;124mf\u001b[39m\u001b[38;5;124m\"\"\"\u001b[39m\n\u001b[1;32m    183\u001b[0m \u001b[38;5;124mXGBoost Library (\u001b[39m\u001b[38;5;132;01m{\u001b[39;00mlibname\u001b[38;5;132;01m}\u001b[39;00m\u001b[38;5;124m) could not be loaded.\u001b[39m\n\u001b[1;32m    184\u001b[0m \u001b[38;5;124mLikely causes:\u001b[39m\n\u001b[1;32m    185\u001b[0m \u001b[38;5;124m  * OpenMP runtime is not installed\u001b[39m\n\u001b[1;32m    186\u001b[0m \u001b[38;5;124m    - vcomp140.dll or libgomp-1.dll for Windows\u001b[39m\n\u001b[1;32m    187\u001b[0m \u001b[38;5;124m    - libomp.dylib for Mac OSX\u001b[39m\n\u001b[1;32m    188\u001b[0m \u001b[38;5;124m    - libgomp.so for Linux and other UNIX-like OSes\u001b[39m\n\u001b[1;32m    189\u001b[0m \u001b[38;5;124m    Mac OSX users: Run `brew install libomp` to install OpenMP runtime.\u001b[39m\n\u001b[1;32m    190\u001b[0m \n\u001b[1;32m    191\u001b[0m \u001b[38;5;124m  * You are running 32-bit Python on a 64-bit OS\u001b[39m\n\u001b[1;32m    192\u001b[0m \n\u001b[1;32m    193\u001b[0m \u001b[38;5;124mError message(s): \u001b[39m\u001b[38;5;132;01m{\u001b[39;00mos_error_list\u001b[38;5;132;01m}\u001b[39;00m\n\u001b[1;32m    194\u001b[0m \u001b[38;5;124m\"\"\"\u001b[39m)\n\u001b[1;32m    195\u001b[0m     lib\u001b[38;5;241m.\u001b[39mXGBGetLastError\u001b[38;5;241m.\u001b[39mrestype \u001b[38;5;241m=\u001b[39m ctypes\u001b[38;5;241m.\u001b[39mc_char_p\n\u001b[1;32m    196\u001b[0m     lib\u001b[38;5;241m.\u001b[39mcallback \u001b[38;5;241m=\u001b[39m _get_log_callback_func()\n",
      "\u001b[0;31mXGBoostError\u001b[0m: \nXGBoost Library (libxgboost.dylib) could not be loaded.\nLikely causes:\n  * OpenMP runtime is not installed\n    - vcomp140.dll or libgomp-1.dll for Windows\n    - libomp.dylib for Mac OSX\n    - libgomp.so for Linux and other UNIX-like OSes\n    Mac OSX users: Run `brew install libomp` to install OpenMP runtime.\n\n  * You are running 32-bit Python on a 64-bit OS\n\nError message(s): ['dlopen(/Users/billy/temp_env/lib/python3.8/site-packages/xgboost/lib/libxgboost.dylib, 6): Library not loaded: /usr/local/opt/libomp/lib/libomp.dylib\\n  Referenced from: /Users/billy/temp_env/lib/python3.8/site-packages/xgboost/lib/libxgboost.dylib\\n  Reason: image not found']\n"
     ]
    }
   ],
   "source": [
    "import xgboost as xgb\n",
    "xgb_cl = xgb.XGBClassifier()\n",
    "xgb_cl.fit(X_train, y_train)\n",
    "preds = xgb_cl.predict(X_test)"
   ]
  },
  {
   "cell_type": "code",
   "execution_count": null,
   "metadata": {
    "colab": {
     "base_uri": "https://localhost:8080/"
    },
    "id": "tbuyCxRCDZ9K",
    "outputId": "161bb532-3f9b-4ca5-c4d1-5f4eb2eea46f"
   },
   "outputs": [],
   "source": [
    "from sklearn.metrics import accuracy_score\n",
    "accuracy = accuracy_score(y_test, preds)\n",
    "print(accuracy * 100.0)"
   ]
  },
  {
   "cell_type": "markdown",
   "metadata": {
    "id": "VpWze6SPawj0"
   },
   "source": [
    "## Predicting Values"
   ]
  },
  {
   "cell_type": "code",
   "execution_count": null,
   "metadata": {
    "id": "yTOSzRpz98xJ"
   },
   "outputs": [],
   "source": [
    "# now running our model on final 'test' dataset to predict values of 'yearly availability'\n",
    "# but before we pass our test dataset through our trained model, we preprocess it like our train dataset, so that it can be processed by our model"
   ]
  },
  {
   "cell_type": "code",
   "execution_count": null,
   "metadata": {
    "id": "6KMfJnwP9_sO"
   },
   "outputs": [],
   "source": [
    "testdata = pd.read_csv('test.csv')"
   ]
  },
  {
   "cell_type": "code",
   "execution_count": null,
   "metadata": {
    "colab": {
     "base_uri": "https://localhost:8080/",
     "height": 206
    },
    "id": "sFsolnMT-B-z",
    "outputId": "3cb9efce-ca1e-4353-93f6-5a0982083a1a"
   },
   "outputs": [],
   "source": [
    "testdata.head()"
   ]
  },
  {
   "cell_type": "code",
   "execution_count": null,
   "metadata": {
    "colab": {
     "base_uri": "https://localhost:8080/"
    },
    "id": "idZ-SGaHbJsB",
    "outputId": "490ff4ec-5ae6-4c43-8867-51d2d3c932b8"
   },
   "outputs": [],
   "source": [
    "print(testdata.isnull().sum()) # we have 173 missing values in 'reviews_per_month' column"
   ]
  },
  {
   "cell_type": "code",
   "execution_count": null,
   "metadata": {
    "colab": {
     "base_uri": "https://localhost:8080/"
    },
    "id": "BktJnElObuHj",
    "outputId": "d1770c41-2168-4c01-ed09-1f7004761b7c"
   },
   "outputs": [],
   "source": [
    "testdata.info()"
   ]
  },
  {
   "cell_type": "code",
   "execution_count": null,
   "metadata": {
    "id": "AtWPPtye-FiC"
   },
   "outputs": [],
   "source": [
    "testdata = pd.get_dummies(testdata, columns=['region','accommodation_type']) # one hot encoding to convert the categorical columns into numerical"
   ]
  },
  {
   "cell_type": "code",
   "execution_count": null,
   "metadata": {
    "colab": {
     "base_uri": "https://localhost:8080/"
    },
    "id": "z_QeO_Qk-NBw",
    "outputId": "01d10702-1e93-4048-f845-b220ecdcf4e1"
   },
   "outputs": [],
   "source": [
    "testdata=imp.fit_transform(testdata) # imputing the missing values with our pre-trained mice algorithm imputer above"
   ]
  },
  {
   "cell_type": "code",
   "execution_count": null,
   "metadata": {
    "colab": {
     "base_uri": "https://localhost:8080/"
    },
    "id": "DzunTQGXcilt",
    "outputId": "d99e4ac2-68e5-48cf-a9bb-0a6c620cb73d"
   },
   "outputs": [],
   "source": [
    "type(testdata)  # we convert the data in pandas dataframe"
   ]
  },
  {
   "cell_type": "code",
   "execution_count": null,
   "metadata": {
    "id": "N1x5GTDj-QpG"
   },
   "outputs": [],
   "source": [
    "testdata= pd.DataFrame(testdata)"
   ]
  },
  {
   "cell_type": "code",
   "execution_count": null,
   "metadata": {
    "id": "W1gWCYzh-XD1"
   },
   "outputs": [],
   "source": [
    "# renaming the testdata columns \n",
    "testdata.columns =['id','latitude','longitude','cost','minimum_nights','number_of_reviews','reviews_per_month','owner_id','owned_hotels','region_Bronx','region_Brooklyn','region_Manhattan','region_Queens','region_StatenIsland','accommodation_type_Entire home/apt','accommodation_type_Private room','accommodation_type_Shared room']                 "
   ]
  },
  {
   "cell_type": "code",
   "execution_count": null,
   "metadata": {
    "colab": {
     "base_uri": "https://localhost:8080/"
    },
    "id": "5s1K1O0k-aw_",
    "outputId": "ad632f74-4bb9-44ab-eba0-323654c89914"
   },
   "outputs": [],
   "source": [
    "testdata.shape"
   ]
  },
  {
   "cell_type": "code",
   "execution_count": null,
   "metadata": {
    "id": "qRuBn_70-du6"
   },
   "outputs": [],
   "source": [
    "xtest = testdata.loc[:,testdata.columns != 'yearly_availability']"
   ]
  },
  {
   "cell_type": "code",
   "execution_count": null,
   "metadata": {
    "id": "O4T-slfR9FGA"
   },
   "outputs": [],
   "source": [
    "# predicting the result for test data \n",
    "preds_result = xgb_cl.predict(xtest)\n"
   ]
  },
  {
   "cell_type": "code",
   "execution_count": null,
   "metadata": {
    "id": "s29eZQOaAnRL"
   },
   "outputs": [],
   "source": [
    "submission_df = pd.DataFrame(data={\"id\":testdata[\"id\"],\"yearly_availability\":preds_result})"
   ]
  },
  {
   "cell_type": "code",
   "execution_count": null,
   "metadata": {
    "colab": {
     "base_uri": "https://localhost:8080/",
     "height": 300
    },
    "id": "77vclCf5AxM4",
    "outputId": "62f8b1ae-ba5f-4f0c-fb07-d1b2f80e97ec"
   },
   "outputs": [],
   "source": [
    "submission_df.describe()"
   ]
  },
  {
   "cell_type": "code",
   "execution_count": null,
   "metadata": {
    "colab": {
     "base_uri": "https://localhost:8080/",
     "height": 206
    },
    "id": "UVnokJW_A8y5",
    "outputId": "3356c1e5-6120-4b3d-d1b6-318d033e1259"
   },
   "outputs": [],
   "source": [
    "submission_df.head()"
   ]
  },
  {
   "cell_type": "code",
   "execution_count": null,
   "metadata": {
    "id": "OU-sB1x-BDHy"
   },
   "outputs": [],
   "source": [
    "submission_df.to_csv('submisssions.csv', index=False)"
   ]
  }
 ],
 "metadata": {
  "colab": {
   "name": "expedia_feb23.ipynb",
   "provenance": []
  },
  "kernelspec": {
   "display_name": "Python 3 (ipykernel)",
   "language": "python",
   "name": "python3"
  },
  "language_info": {
   "codemirror_mode": {
    "name": "ipython",
    "version": 3
   },
   "file_extension": ".py",
   "mimetype": "text/x-python",
   "name": "python",
   "nbconvert_exporter": "python",
   "pygments_lexer": "ipython3",
   "version": "3.8.8"
  }
 },
 "nbformat": 4,
 "nbformat_minor": 1
}
